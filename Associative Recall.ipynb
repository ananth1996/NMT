{
 "cells": [
  {
   "cell_type": "code",
   "execution_count": 1,
   "metadata": {},
   "outputs": [],
   "source": [
    "%load_ext autoreload\n",
    "%autoreload 2\n",
    "\n"
   ]
  },
  {
   "cell_type": "code",
   "execution_count": 2,
   "metadata": {},
   "outputs": [],
   "source": [
    "#%%\n",
    "from ntm import NTM\n",
    "from dataloader import associative_dataloader\n",
    "from torch import nn, optim\n",
    "import torch\n",
    "import matplotlib.pyplot as plt\n",
    "import matplotlib as mpl\n",
    "from tqdm import tqdm \n",
    "#%%"
   ]
  },
  {
   "cell_type": "code",
   "execution_count": 3,
   "metadata": {},
   "outputs": [],
   "source": [
    "item_width=6\n",
    "item_length = 3\n",
    "item_min_count = 2\n",
    "item_max_count = 6\n",
    "\n",
    "input_size=item_width+2\n",
    "output_size= item_width\n",
    "controller_size=100\n",
    "memory_units=128\n",
    "memory_unit_size=20\n",
    "batch_size=1\n",
    "num_heads=1\n",
    "total_iteration =100000\n",
    "num_batches = total_iteration//batch_size \n",
    "\n"
   ]
  },
  {
   "cell_type": "code",
   "execution_count": 4,
   "metadata": {},
   "outputs": [],
   "source": [
    "device = torch.device(\"cpu\")\n",
    "data = associative_dataloader(num_batches=num_batches,\n",
    "                              batch_size=batch_size,\n",
    "                              item_width = item_width,\n",
    "                              item_length=item_length,\n",
    "                              max_item_count= item_max_count,\n",
    "                              min_item_count=item_min_count,\n",
    "                              device = device\n",
    "                             )\n",
    "\n",
    "ntm = NTM(input_size,output_size,controller_size,memory_units,memory_unit_size,num_heads,device)\n",
    "\n",
    "criterion = nn.BCELoss()\n",
    "optimizer = optim.RMSprop(ntm.parameters(),\n",
    "                          lr=1e-4,\n",
    "                          alpha=0.95,\n",
    "                          momentum=0.9)"
   ]
  },
  {
   "cell_type": "code",
   "execution_count": null,
   "metadata": {},
   "outputs": [
    {
     "name": "stdout",
     "output_type": "stream",
     "text": [
      "Starting training\n",
      "Finished batch: 0, loss:6.587e-01, cost: 7.0\n",
      "Finished batch: 6, loss:6.472e-01, cost: 6.0\n",
      "Finished batch: 8, loss:6.251e-01, cost: 3.0\n",
      "Finished batch: 14, loss:6.171e-01, cost: 4.0\n",
      "Finished batch: 15, loss:5.255e-01, cost: 0.0\n",
      "Finished batch: 18, loss:4.671e-01, cost: 0.0\n",
      "Finished batch: 27, loss:4.479e-01, cost: 0.0\n",
      "Finished batch: 30, loss:4.475e-01, cost: 0.0\n",
      "Finished batch: 91, loss:4.362e-01, cost: 0.0\n",
      "Finished batch: 92, loss:4.286e-01, cost: 0.0\n",
      "Finished batch: 98, loss:3.910e-01, cost: 0.0\n",
      "Finished batch: 386, loss:3.845e-01, cost: 0.0\n",
      "Finished batch: 391, loss:3.524e-01, cost: 0.0\n",
      "Finished batch: 393, loss:3.522e-01, cost: 0.0\n",
      "Finished batch: 500, loss:8.383e-01, cost: 11.0\n",
      "Finished batch: 593, loss:3.423e-01, cost: 0.0\n",
      "Finished batch: 598, loss:3.190e-01, cost: 0.0\n",
      "Finished batch: 608, loss:2.896e-01, cost: 0.0\n",
      "Finished batch: 611, loss:2.888e-01, cost: 0.0\n",
      "Finished batch: 617, loss:2.882e-01, cost: 0.0\n",
      "Finished batch: 624, loss:2.699e-01, cost: 0.0\n",
      "Finished batch: 880, loss:2.350e-01, cost: 0.0\n",
      "Finished batch: 881, loss:2.341e-01, cost: 0.0\n",
      "Finished batch: 886, loss:2.258e-01, cost: 0.0\n",
      "Finished batch: 1000, loss:4.426e-01, cost: 0.0\n",
      "Finished batch: 1500, loss:4.285e-01, cost: 0.0\n",
      "Finished batch: 1788, loss:2.174e-01, cost: 0.0\n",
      "Finished batch: 1791, loss:1.993e-01, cost: 0.0\n",
      "Finished batch: 1840, loss:1.880e-01, cost: 0.0\n",
      "Finished batch: 1850, loss:1.703e-01, cost: 0.0\n",
      "Finished batch: 1851, loss:1.687e-01, cost: 0.0\n",
      "Finished batch: 1854, loss:1.596e-01, cost: 0.0\n",
      "Finished batch: 1856, loss:1.591e-01, cost: 0.0\n",
      "Finished batch: 1864, loss:1.414e-01, cost: 0.0\n",
      "Finished batch: 2000, loss:8.108e-01, cost: 10.0\n",
      "Finished batch: 2500, loss:7.363e-01, cost: 11.0\n",
      "Finished batch: 3000, loss:6.052e-01, cost: 0.0\n",
      "Finished batch: 3500, loss:8.887e-01, cost: 12.0\n",
      "Finished batch: 4000, loss:7.127e-01, cost: 10.0\n",
      "Finished batch: 4500, loss:9.910e-01, cost: 13.0\n",
      "Finished batch: 5000, loss:9.122e-01, cost: 13.0\n",
      "Finished batch: 5500, loss:7.187e-01, cost: 9.0\n",
      "Finished batch: 6000, loss:7.375e-01, cost: 10.0\n",
      "Finished batch: 6305, loss:1.380e-01, cost: 0.0\n",
      "Finished batch: 6500, loss:5.148e-01, cost: 0.0\n",
      "Finished batch: 6856, loss:1.252e-01, cost: 0.0\n",
      "Finished batch: 7000, loss:7.033e-01, cost: 9.0\n",
      "Finished batch: 7190, loss:9.889e-02, cost: 0.0\n",
      "Finished batch: 7500, loss:7.030e-01, cost: 8.0\n",
      "Finished batch: 7754, loss:9.552e-02, cost: 0.0\n",
      "Finished batch: 7763, loss:9.236e-02, cost: 0.0\n",
      "Finished batch: 7787, loss:6.576e-02, cost: 0.0\n",
      "Finished batch: 8000, loss:6.852e-01, cost: 9.0\n",
      "Finished batch: 8500, loss:7.218e-01, cost: 10.0\n",
      "Finished batch: 8518, loss:6.436e-02, cost: 0.0\n",
      "Finished batch: 8583, loss:5.669e-02, cost: 0.0\n",
      "Finished batch: 9000, loss:7.676e-01, cost: 10.0\n",
      "Finished batch: 9038, loss:2.874e-02, cost: 0.0\n",
      "Finished batch: 9500, loss:2.592e-01, cost: 0.0\n",
      "Finished batch: 9757, loss:2.868e-02, cost: 0.0\n",
      "Finished batch: 10000, loss:7.126e-01, cost: 9.0\n",
      "Finished batch: 10232, loss:1.405e-02, cost: 0.0\n",
      "Finished batch: 10500, loss:8.587e-01, cost: 14.0\n",
      "Finished batch: 10933, loss:1.376e-02, cost: 0.0\n",
      "Finished batch: 11000, loss:6.295e-01, cost: 7.0\n",
      "Finished batch: 11366, loss:1.203e-02, cost: 0.0\n",
      "Finished batch: 11395, loss:9.184e-03, cost: 0.0\n",
      "Finished batch: 11500, loss:7.272e-01, cost: 8.0\n",
      "Finished batch: 12000, loss:6.840e-01, cost: 5.0\n",
      "Finished batch: 12500, loss:5.731e-01, cost: 6.0\n",
      "Finished batch: 13000, loss:6.506e-01, cost: 5.0\n",
      "Finished batch: 13500, loss:7.361e-01, cost: 8.0\n",
      "Finished batch: 13806, loss:6.175e-03, cost: 0.0\n",
      "Finished batch: 13813, loss:5.655e-03, cost: 0.0\n",
      "Finished batch: 14000, loss:6.075e-01, cost: 6.0\n",
      "Finished batch: 14013, loss:3.806e-03, cost: 0.0\n",
      "Finished batch: 14346, loss:3.522e-03, cost: 0.0\n",
      "Finished batch: 14362, loss:1.571e-03, cost: 0.0\n",
      "Finished batch: 14500, loss:1.050e+00, cost: 11.0\n",
      "Finished batch: 15000, loss:1.125e-01, cost: 0.0\n",
      "Finished batch: 15500, loss:6.126e-01, cost: 6.0\n",
      "Finished batch: 16000, loss:6.166e-01, cost: 5.0\n",
      "Finished batch: 16500, loss:4.295e-01, cost: 0.0\n",
      "Finished batch: 17000, loss:6.827e-01, cost: 7.0\n",
      "Finished batch: 17500, loss:2.704e-01, cost: 0.0\n",
      "Finished batch: 18000, loss:8.636e-01, cost: 13.0\n",
      "Finished batch: 18288, loss:1.536e-03, cost: 0.0\n",
      "Finished batch: 18500, loss:5.680e-01, cost: 4.0\n",
      "Finished batch: 19000, loss:5.946e-01, cost: 5.0\n",
      "Finished batch: 19265, loss:1.009e-03, cost: 0.0\n",
      "Finished batch: 19500, loss:4.997e-01, cost: 1.0\n",
      "Finished batch: 20000, loss:6.299e-03, cost: 0.0\n",
      "Finished batch: 20500, loss:6.380e-01, cost: 7.0\n",
      "Finished batch: 20675, loss:8.185e-04, cost: 0.0\n",
      "Finished batch: 21000, loss:7.124e-01, cost: 9.0\n",
      "Finished batch: 21500, loss:6.111e-01, cost: 4.0\n",
      "Finished batch: 21939, loss:3.042e-04, cost: 0.0\n",
      "Finished batch: 22000, loss:6.230e-01, cost: 5.0\n",
      "Finished batch: 22500, loss:6.679e-01, cost: 7.0\n",
      "Finished batch: 23000, loss:6.530e-01, cost: 9.0\n",
      "Finished batch: 24500, loss:6.582e-01, cost: 5.0\n",
      "Finished batch: 24870, loss:2.817e-04, cost: 0.0\n",
      "Finished batch: 25000, loss:6.169e-01, cost: 6.0\n",
      "Finished batch: 25500, loss:8.090e-01, cost: 8.0\n",
      "Finished batch: 26000, loss:1.092e+00, cost: 14.0\n",
      "Finished batch: 26117, loss:2.511e-04, cost: 0.0\n",
      "Finished batch: 26500, loss:7.532e-01, cost: 9.0\n",
      "Finished batch: 26514, loss:2.497e-04, cost: 0.0\n",
      "Finished batch: 27000, loss:6.488e-01, cost: 6.0\n",
      "Finished batch: 27500, loss:5.459e-01, cost: 3.0\n",
      "Finished batch: 28000, loss:1.373e-01, cost: 0.0\n",
      "Finished batch: 28500, loss:4.681e-01, cost: 2.0\n",
      "Finished batch: 29000, loss:6.405e-01, cost: 7.0\n",
      "Finished batch: 29500, loss:7.108e-01, cost: 10.0\n",
      "Finished batch: 30000, loss:2.090e-01, cost: 0.0\n",
      "Finished batch: 30500, loss:6.497e-01, cost: 7.0\n",
      "Finished batch: 31000, loss:1.887e-02, cost: 0.0\n",
      "Finished batch: 31500, loss:5.327e-01, cost: 2.0\n",
      "Finished batch: 32000, loss:7.013e-01, cost: 8.0\n",
      "Finished batch: 32500, loss:6.056e-01, cost: 7.0\n",
      "Finished batch: 33000, loss:6.542e-01, cost: 7.0\n",
      "Finished batch: 33500, loss:6.474e-01, cost: 7.0\n",
      "Finished batch: 33707, loss:1.835e-04, cost: 0.0\n",
      "Finished batch: 33810, loss:1.572e-04, cost: 0.0\n",
      "Finished batch: 35000, loss:6.920e-01, cost: 8.0\n",
      "Finished batch: 35081, loss:1.046e-04, cost: 0.0\n",
      "Finished batch: 36500, loss:6.739e-01, cost: 7.0\n",
      "Finished batch: 37000, loss:7.782e-01, cost: 6.0\n",
      "Finished batch: 37329, loss:8.060e-05, cost: 0.0\n",
      "Finished batch: 37500, loss:7.409e-01, cost: 11.0\n",
      "Finished batch: 39000, loss:1.416e-03, cost: 0.0\n"
     ]
    }
   ],
   "source": [
    "#%%\n",
    "print(\"Starting training\")\n",
    "print_every = 500\n",
    "losses =[]\n",
    "errors =[]\n",
    "best_error = 1e6\n",
    "for batch, (x,y) in(enumerate(data)):\n",
    "    optimizer.zero_grad()\n",
    "    ntm.reset(batch_size)\n",
    "    \n",
    "#     print(\"Sendning inputs\")\n",
    "    for i in range(x.size(0)):\n",
    "        input_vector = x[i]\n",
    "        ntm(input_vector)\n",
    "\n",
    "    outputs = torch.zeros(y.size()).to(device)\n",
    "\n",
    "    zero_input = torch.zeros([batch_size,input_size]).to(device)\n",
    "#     print(\"Finding Outputs\")\n",
    "    for i in range(y.size(0)):\n",
    "        outputs[i],_ = ntm(zero_input)\n",
    "    \n",
    "#     print(\"Backprop step\")\n",
    "#     print(f\"Outputs {outputs}\")\n",
    "#     print(f\"y {y}\")\n",
    "    loss = criterion(outputs, y)\n",
    "    losses.append(loss.item())\n",
    "    loss.backward()\n",
    "    nn.utils.clip_grad_value_(ntm.parameters(), 10)\n",
    "    optimizer.step()\n",
    "    \n",
    "    out_binarized = outputs.clone().data\n",
    "    out_binarized = out_binarized.cpu().detach().apply_(lambda x: 0 if x < 0.5 else 1).to(device)\n",
    "    \n",
    "    # The cost is the number of error bits per sequence\n",
    "    cost = torch.sum(torch.abs(out_binarized - y.data))\n",
    "    errors.append(cost.item()/batch_size)\n",
    "    best_error = min(best_error,losses[-1])\n",
    "    if (batch%print_every ==0 or best_error == losses[-1]):\n",
    "        print(f\"Finished batch: {batch}, loss:{losses[-1]:.3e}, cost: {errors[-1]}\")\n",
    "        torch.save(ntm.state_dict(), f'checkpoints/associative/v2-{batch}_error_{losses[-1]:.3e}_cost_{int(errors[-1])}.pt')\n"
   ]
  },
  {
   "cell_type": "code",
   "execution_count": 6,
   "metadata": {},
   "outputs": [],
   "source": [
    "mpl.rcParams['figure.dpi']=100\n",
    "plt.rcParams['image.cmap'] = 'binary_r'\n",
    "plt.rcParams['image.cmap'] = 'Blues_r'"
   ]
  },
  {
   "cell_type": "code",
   "execution_count": 7,
   "metadata": {},
   "outputs": [],
   "source": [
    "import numpy as np\n",
    "def print_head(h):\n",
    "    fig, (ax1, ax2) = plt.subplots(1, 2,figsize=(10,10))\n",
    "    fig\n",
    "    h = np.array(h)\n",
    "    r = h[:,0,:,:]\n",
    "    w = h[:,1,:,:]\n",
    "   # ax1.figure(figsize=(10,20))\n",
    "    ax1.imshow(r.T.squeeze())\n",
    "    ax1.set_title(\"Read Head locations\")\n",
    "#     plt.show()\n",
    "#     plt.figure(figsize=(10,20))\n",
    "    ax2.imshow(w.T.squeeze())\n",
    "    ax2.set_title(\"Write Head locations\")\n",
    "    plt.show()"
   ]
  },
  {
   "cell_type": "markdown",
   "metadata": {},
   "source": [
    "## Input and Target"
   ]
  },
  {
   "cell_type": "code",
   "execution_count": 154,
   "metadata": {},
   "outputs": [
    {
     "data": {
      "image/png": "[encoded data removed]",
      "text/plain": [
       "<Figure size 2000x2000 with 2 Axes>"
      ]
     },
     "metadata": {
      "needs_background": "light"
     },
     "output_type": "display_data"
    }
   ],
   "source": [
    "test = associative_dataloader(1,1,6,5,20,20,device)\n",
    "x,y = next(test)\n",
    "fig, (ax1, ax2) = plt.subplots(1,2,figsize=(20,20),gridspec_kw={'width_ratios': [9, 1]})\n",
    "ax1.imshow(x.squeeze().t())\n",
    "ax1.set_title(\"Input Sequence\")\n",
    "ax2.imshow(y.squeeze().t())\n",
    "ax2.set_title(\"Target Sequence\")\n",
    "plt.show()"
   ]
  },
  {
   "cell_type": "code",
   "execution_count": 155,
   "metadata": {},
   "outputs": [],
   "source": [
    "ntm_pretrained = NTM(input_size,output_size,controller_size,memory_units,memory_unit_size,num_heads,device)\n",
    "ntm_pretrained.load_state_dict(torch.load(\"checkpoints/associative/v2-final.pt\"))\n",
    "model = ntm_pretrained\n",
    "# model = ntm\n",
    "model.reset(batch_size=1)\n",
    "with torch.no_grad():\n",
    "    h1 =[]\n",
    "    for i in range(x.size(0)):\n",
    "            input = x[i]\n",
    "            _,head = model(input)\n",
    "            h1.append(head)\n",
    "    outputs = torch.zeros(y.size())\n",
    "    \n",
    "    zero_input = torch.zeros([1,input_size])\n",
    "    #     print(\"Finding Outputs\")\n",
    "    h2 =[]\n",
    "    for i in range(y.size(0)):\n",
    "        outputs[i],head = model(zero_input)\n",
    "        h2.append(head)\n",
    "    head_weights = np.concatenate((np.array(h1),np.array(h2)),axis=0)\n",
    "\n",
    "\n"
   ]
  },
  {
   "cell_type": "markdown",
   "metadata": {},
   "source": [
    "## Output from network "
   ]
  },
  {
   "cell_type": "code",
   "execution_count": 156,
   "metadata": {},
   "outputs": [
    {
     "data": {
      "image/png": "[encoded data removed]",
      "text/plain": [
       "<Figure size 400x400 with 1 Axes>"
      ]
     },
     "metadata": {
      "needs_background": "light"
     },
     "output_type": "display_data"
    },
    {
     "data": {
      "image/png": "[encoded data removed]",
      "text/plain": [
       "<Figure size 1000x1000 with 2 Axes>"
      ]
     },
     "metadata": {
      "needs_background": "light"
     },
     "output_type": "display_data"
    }
   ],
   "source": [
    "plt.figure(figsize=(4,4))\n",
    "plt.imshow(outputs.squeeze().t())\n",
    "print_head(head_weights)"
   ]
  },
  {
   "cell_type": "markdown",
   "metadata": {},
   "source": [
    "## Error between target and output"
   ]
  },
  {
   "cell_type": "code",
   "execution_count": 32,
   "metadata": {},
   "outputs": [
    {
     "data": {
      "image/png": "[encoded data removed]",
      "text/plain": [
       "<Figure size 600x400 with 1 Axes>"
      ]
     },
     "metadata": {
      "needs_background": "light"
     },
     "output_type": "display_data"
    }
   ],
   "source": [
    "plt.imshow((y-outputs).round().squeeze().t())\n",
    "plt.show()"
   ]
  },
  {
   "cell_type": "code",
   "execution_count": null,
   "metadata": {},
   "outputs": [],
   "source": []
  }
 ],
 "metadata": {
  "kernelspec": {
   "display_name": "Python 3",
   "language": "python",
   "name": "python3"
  },
  "language_info": {
   "codemirror_mode": {
    "name": "ipython",
    "version": 3
   },
   "file_extension": ".py",
   "mimetype": "text/x-python",
   "name": "python",
   "nbconvert_exporter": "python",
   "pygments_lexer": "ipython3",
   "version": "3.6.6"
  }
 },
 "nbformat": 4,
 "nbformat_minor": 2
}
