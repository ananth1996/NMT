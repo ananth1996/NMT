{
 "cells": [
  {
   "cell_type": "code",
   "execution_count": 1,
   "metadata": {},
   "outputs": [],
   "source": [
    "%load_ext autoreload\n",
    "%autoreload 2\n",
    "\n"
   ]
  },
  {
   "cell_type": "code",
   "execution_count": 2,
   "metadata": {},
   "outputs": [],
   "source": [
    "#%%\n",
    "from ntm import NTM\n",
    "from dataloader import copy_dataloader\n",
    "from torch import nn, optim\n",
    "import torch\n",
    "import matplotlib.pyplot as plt\n",
    "import matplotlib as mpl\n",
    "from tqdm import tqdm \n",
    "#%%"
   ]
  },
  {
   "cell_type": "code",
   "execution_count": 3,
   "metadata": {},
   "outputs": [],
   "source": [
    "input_size=8+2\n",
    "output_size=8\n",
    "controller_size=100\n",
    "memory_units=128\n",
    "memory_unit_size=20\n",
    "batch_size=1\n",
    "num_heads=1\n",
    "total_iteration =10000\n",
    "num_batches = total_iteration//batch_size "
   ]
  },
  {
   "cell_type": "code",
   "execution_count": 4,
   "metadata": {},
   "outputs": [],
   "source": [
    "device = torch.device(\"cpu\")\n",
    "data = copy_dataloader(num_batches,batch_size,8,1,20,device)\n",
    "\n",
    "ntm = NTM(input_size,output_size,controller_size,memory_units,memory_unit_size,num_heads,device)\n",
    "\n",
    "criterion = nn.BCELoss()\n",
    "optimizer = optim.RMSprop(ntm.parameters(),\n",
    "                          lr=1e-4,\n",
    "                          alpha=0.95,\n",
    "                          momentum=0.9)"
   ]
  },
  {
   "cell_type": "code",
   "execution_count": 5,
   "metadata": {},
   "outputs": [
    {
     "name": "stdout",
     "output_type": "stream",
     "text": [
      "Starting training\n",
      "Finished batch: 0, loss:6.982e-01, cost: 18.0\n",
      "Finished batch: 100, loss:6.868e-01, cost: 37.0\n",
      "Finished batch: 200, loss:7.004e-01, cost: 44.0\n",
      "Finished batch: 300, loss:6.930e-01, cost: 60.0\n",
      "Finished batch: 400, loss:6.931e-01, cost: 17.0\n",
      "Finished batch: 500, loss:6.989e-01, cost: 30.0\n",
      "Finished batch: 600, loss:7.079e-01, cost: 19.0\n",
      "Finished batch: 700, loss:6.970e-01, cost: 60.0\n",
      "Finished batch: 800, loss:6.874e-01, cost: 39.0\n",
      "Finished batch: 900, loss:7.040e-01, cost: 78.0\n",
      "Finished batch: 1000, loss:6.874e-01, cost: 54.0\n",
      "Finished batch: 1100, loss:7.408e-01, cost: 71.0\n",
      "Finished batch: 1200, loss:6.656e-01, cost: 50.0\n",
      "Finished batch: 1300, loss:6.507e-01, cost: 18.0\n",
      "Finished batch: 1400, loss:6.001e-01, cost: 14.0\n",
      "Finished batch: 1500, loss:6.718e-01, cost: 60.0\n",
      "Finished batch: 1600, loss:5.667e-01, cost: 31.0\n",
      "Finished batch: 1700, loss:4.880e-01, cost: 22.0\n",
      "Finished batch: 1800, loss:3.747e-01, cost: 5.0\n",
      "Finished batch: 1900, loss:6.890e-01, cost: 19.0\n",
      "Finished batch: 2000, loss:6.936e-01, cost: 65.0\n",
      "Finished batch: 2100, loss:6.746e-01, cost: 46.0\n",
      "Finished batch: 2200, loss:5.394e-01, cost: 9.0\n",
      "Finished batch: 2300, loss:5.078e-01, cost: 13.0\n",
      "Finished batch: 2400, loss:4.225e-01, cost: 9.0\n",
      "Finished batch: 2500, loss:2.640e-01, cost: 0.0\n",
      "Finished batch: 2600, loss:2.894e-01, cost: 7.0\n",
      "Finished batch: 2700, loss:3.273e-01, cost: 7.0\n",
      "Finished batch: 2800, loss:8.767e-01, cost: 40.0\n",
      "Finished batch: 2900, loss:1.266e-01, cost: 5.0\n",
      "Finished batch: 3000, loss:8.067e-02, cost: 5.0\n",
      "Finished batch: 3100, loss:1.029e-01, cost: 5.0\n",
      "Finished batch: 3200, loss:1.362e-01, cost: 7.0\n",
      "Finished batch: 3300, loss:1.649e-01, cost: 6.0\n",
      "Finished batch: 3400, loss:2.371e-01, cost: 4.0\n",
      "Finished batch: 3500, loss:1.461e+00, cost: 90.0\n",
      "Finished batch: 3600, loss:7.205e-01, cost: 22.0\n",
      "Finished batch: 3700, loss:6.984e-01, cost: 17.0\n",
      "Finished batch: 3800, loss:5.666e-01, cost: 6.0\n",
      "Finished batch: 3900, loss:6.702e-01, cost: 50.0\n",
      "Finished batch: 4000, loss:6.199e-01, cost: 41.0\n",
      "Finished batch: 4100, loss:3.936e-02, cost: 0.0\n",
      "Finished batch: 4200, loss:1.625e-02, cost: 0.0\n",
      "Finished batch: 4300, loss:3.148e-03, cost: 0.0\n",
      "Finished batch: 4400, loss:7.348e-01, cost: 57.0\n",
      "Finished batch: 4500, loss:1.309e+00, cost: 40.0\n",
      "Finished batch: 4600, loss:7.184e-01, cost: 31.0\n",
      "Finished batch: 4700, loss:6.792e-01, cost: 10.0\n",
      "Finished batch: 4800, loss:5.480e-01, cost: 40.0\n",
      "Finished batch: 4900, loss:5.870e-01, cost: 55.0\n",
      "Finished batch: 5000, loss:7.635e-03, cost: 0.0\n",
      "Finished batch: 5100, loss:5.235e-02, cost: 0.0\n",
      "Finished batch: 5200, loss:5.224e-03, cost: 0.0\n",
      "Finished batch: 5300, loss:1.624e-03, cost: 0.0\n",
      "Finished batch: 5400, loss:6.907e-01, cost: 33.0\n",
      "Finished batch: 5500, loss:6.472e-01, cost: 28.0\n",
      "Finished batch: 5600, loss:6.814e-01, cost: 29.0\n",
      "Finished batch: 5700, loss:5.897e-01, cost: 38.0\n",
      "Finished batch: 5800, loss:4.271e-01, cost: 16.0\n",
      "Finished batch: 5900, loss:1.215e-01, cost: 1.0\n",
      "Finished batch: 6000, loss:4.504e-02, cost: 2.0\n",
      "Finished batch: 6100, loss:4.231e-02, cost: 0.0\n",
      "Finished batch: 6200, loss:5.173e-03, cost: 0.0\n",
      "Finished batch: 6300, loss:2.726e-03, cost: 0.0\n",
      "Finished batch: 6400, loss:3.891e-04, cost: 0.0\n",
      "Finished batch: 6500, loss:2.812e-04, cost: 0.0\n",
      "Finished batch: 6600, loss:6.090e-05, cost: 0.0\n",
      "Finished batch: 6700, loss:1.065e-04, cost: 0.0\n",
      "Finished batch: 6800, loss:5.327e-05, cost: 0.0\n",
      "Finished batch: 6900, loss:3.331e-05, cost: 0.0\n",
      "Finished batch: 7000, loss:1.108e-05, cost: 0.0\n",
      "Finished batch: 7100, loss:4.575e-06, cost: 0.0\n",
      "Finished batch: 7200, loss:7.063e-07, cost: 0.0\n",
      "Finished batch: 7300, loss:3.851e-06, cost: 0.0\n",
      "Finished batch: 7400, loss:6.882e-01, cost: 40.0\n",
      "Finished batch: 7500, loss:8.739e-05, cost: 0.0\n",
      "Finished batch: 7600, loss:4.455e-05, cost: 0.0\n",
      "Finished batch: 7700, loss:2.824e-05, cost: 0.0\n",
      "Finished batch: 7800, loss:4.945e-06, cost: 0.0\n",
      "Finished batch: 7900, loss:2.297e-06, cost: 0.0\n",
      "Finished batch: 8000, loss:7.103e-07, cost: 0.0\n",
      "Finished batch: 8100, loss:6.987e-07, cost: 0.0\n",
      "Finished batch: 8200, loss:9.779e-08, cost: 0.0\n",
      "Finished batch: 8300, loss:1.139e-07, cost: 0.0\n",
      "Finished batch: 8400, loss:2.421e-08, cost: 0.0\n",
      "Finished batch: 8500, loss:1.118e-08, cost: 0.0\n",
      "Finished batch: 8600, loss:8.382e-09, cost: 0.0\n",
      "Finished batch: 8700, loss:8.515e-09, cost: 0.0\n",
      "Finished batch: 8800, loss:1.597e-09, cost: 0.0\n",
      "Finished batch: 8900, loss:0.000e+00, cost: 0.0\n",
      "Finished batch: 9000, loss:0.000e+00, cost: 0.0\n",
      "Finished batch: 9100, loss:1.533e-06, cost: 0.0\n",
      "Finished batch: 9200, loss:1.656e-09, cost: 0.0\n",
      "Finished batch: 9300, loss:4.139e-10, cost: 0.0\n",
      "Finished batch: 9400, loss:6.706e-08, cost: 0.0\n",
      "Finished batch: 9500, loss:6.623e-08, cost: 0.0\n",
      "Finished batch: 9600, loss:3.427e-07, cost: 0.0\n",
      "Finished batch: 9700, loss:2.201e-07, cost: 0.0\n",
      "Finished batch: 9800, loss:1.553e-06, cost: 0.0\n",
      "Finished batch: 9900, loss:1.937e-08, cost: 0.0\n"
     ]
    }
   ],
   "source": [
    "#%%\n",
    "print(\"Starting training\")\n",
    "print_every = 100\n",
    "losses =[]\n",
    "errors =[]\n",
    "best_error = 1e6\n",
    "for batch, (x,y) in(enumerate(data)):\n",
    "    optimizer.zero_grad()\n",
    "    ntm.reset(batch_size)\n",
    "    \n",
    "#     print(\"Sendning inputs\")\n",
    "    for i in range(x.size(0)):\n",
    "        input = x[i]\n",
    "        ntm(input)\n",
    "\n",
    "    outputs = torch.zeros(y.size()).to(device)\n",
    "\n",
    "    zero_input = torch.zeros([batch_size,input_size]).to(device)\n",
    "#     print(\"Finding Outputs\")\n",
    "    for i in range(y.size(0)):\n",
    "        outputs[i],_ = ntm(zero_input)\n",
    "    \n",
    "#     print(\"Backprop step\")\n",
    "#     print(f\"Outputs {outputs}\")\n",
    "#     print(f\"y {y}\")\n",
    "    loss = criterion(outputs, y)\n",
    "    losses.append(loss.item())\n",
    "    loss.backward()\n",
    "    nn.utils.clip_grad_value_(ntm.parameters(), 10)\n",
    "    optimizer.step()\n",
    "    \n",
    "    out_binarized = outputs.clone().data\n",
    "    out_binarized = out_binarized.cpu().detach().apply_(lambda x: 0 if x < 0.5 else 1).to(device)\n",
    "    \n",
    "    # The cost is the number of error bits per sequence\n",
    "    cost = torch.sum(torch.abs(out_binarized - y.data))\n",
    "    errors.append(cost.item()/batch_size)\n",
    "    if (batch%print_every ==0):\n",
    "        print(f\"Finished batch: {batch}, loss:{losses[-1]:.3e}, cost: {errors[-1]}\")\n",
    "        torch.save(ntm.state_dict(), f'checkpoints/copy/v2-{batch}_error_{losses[-1]:.3e}_cost_{int(errors[-1])}.pt')"
   ]
  },
  {
   "cell_type": "code",
   "execution_count": 5,
   "metadata": {},
   "outputs": [],
   "source": [
    "mpl.rcParams['figure.dpi']=100\n",
    "plt.rcParams['image.cmap'] = 'binary_r'\n",
    "plt.rcParams['image.cmap'] = 'Blues_r'"
   ]
  },
  {
   "cell_type": "markdown",
   "metadata": {},
   "source": [
    "## Target sequence"
   ]
  },
  {
   "cell_type": "code",
   "execution_count": 56,
   "metadata": {},
   "outputs": [
    {
     "data": {
      "image/png": "[encoded data removed]",
      "text/plain": [
       "<Figure size 2000x2000 with 1 Axes>"
      ]
     },
     "metadata": {
      "needs_background": "light"
     },
     "output_type": "display_data"
    },
    {
     "data": {
      "image/png": "[encoded data removed]",
      "text/plain": [
       "<Figure size 2000x2000 with 1 Axes>"
      ]
     },
     "metadata": {
      "needs_background": "light"
     },
     "output_type": "display_data"
    }
   ],
   "source": [
    "l = 120\n",
    "test = copy_dataloader(1,1,8,l,l,device)\n",
    "x,y = next(test)\n",
    "plt.figure(figsize=(20 *l/120,20*l/120))\n",
    "plt.imshow(x.squeeze().t())\n",
    "plt.title(\"Input Sequence\")\n",
    "plt.figure(figsize=(20 *l/120,20*l/120))\n",
    "plt.imshow(y.squeeze().t())\n",
    "plt.title(\"Target Sequence\")\n",
    "plt.show()"
   ]
  },
  {
   "cell_type": "code",
   "execution_count": 57,
   "metadata": {},
   "outputs": [],
   "source": [
    "import numpy as np\n",
    "def print_head(h):\n",
    "    fig, (ax1, ax2) = plt.subplots(1, 2,figsize=(30 *l/120,30*l/120))\n",
    "    fig\n",
    "    h = np.array(h)\n",
    "    r = h[:,0,:,:]\n",
    "    w = h[:,1,:,:]\n",
    "   # ax1.figure(figsize=(10,20))\n",
    "    ax1.imshow(r.T.squeeze())\n",
    "    ax1.set_title(\"Read Head locations\")\n",
    "#     plt.show()\n",
    "#     plt.figure(figsize=(10,20))\n",
    "    ax2.imshow(w.T.squeeze())\n",
    "    ax2.set_title(\"Write Head locations\")\n",
    "    plt.show()"
   ]
  },
  {
   "cell_type": "code",
   "execution_count": 58,
   "metadata": {},
   "outputs": [],
   "source": [
    "ntm_pretrained = NTM(input_size,output_size,controller_size,memory_units,memory_unit_size,num_heads,device)\n",
    "ntm_pretrained.load_state_dict(torch.load(\"checkpoints/copy/i-9900_error_0.000e+00_cost_0.pt\"))\n",
    "model = ntm_pretrained\n",
    "# model = ntm\n",
    "model.reset(batch_size=1)\n",
    "with torch.no_grad():\n",
    "    h1 =[]\n",
    "    for i in range(x.size(0)):\n",
    "            input = x[i]\n",
    "            _,head = model(input)\n",
    "            h1.append(head)\n",
    "    outputs = torch.zeros(y.size())\n",
    "    \n",
    "    zero_input = torch.zeros([1,input_size])\n",
    "    #     print(\"Finding Outputs\")\n",
    "    h2 =[]\n",
    "    for i in range(y.size(0)):\n",
    "        outputs[i],head = model(zero_input)\n",
    "        h2.append(head)\n",
    "    head_weights = np.concatenate((np.array(h1),np.array(h2)),axis=0)\n",
    "\n"
   ]
  },
  {
   "cell_type": "markdown",
   "metadata": {},
   "source": [
    "## Output from network "
   ]
  },
  {
   "cell_type": "code",
   "execution_count": 59,
   "metadata": {},
   "outputs": [
    {
     "data": {
      "image/png": "[encoded data removed]",
      "text/plain": [
       "<Figure size 2000x2000 with 1 Axes>"
      ]
     },
     "metadata": {
      "needs_background": "light"
     },
     "output_type": "display_data"
    },
    {
     "data": {
      "image/png": "[encoded data removed]",
      "text/plain": [
       "<Figure size 3000x3000 with 2 Axes>"
      ]
     },
     "metadata": {
      "needs_background": "light"
     },
     "output_type": "display_data"
    }
   ],
   "source": [
    "plt.figure(figsize=(20 *l/120,20*l/120))\n",
    "plt.title(\"Network Output\")\n",
    "plt.imshow(outputs.squeeze().t())\n",
    "print_head(head_weights)"
   ]
  },
  {
   "cell_type": "markdown",
   "metadata": {},
   "source": [
    "## Error between target and output"
   ]
  },
  {
   "cell_type": "code",
   "execution_count": 60,
   "metadata": {},
   "outputs": [
    {
     "data": {
      "text/plain": [
       "<matplotlib.image.AxesImage at 0x7f14a918ecc0>"
      ]
     },
     "execution_count": 60,
     "metadata": {},
     "output_type": "execute_result"
    },
    {
     "data": {
      "image/png": "[encoded data removed]",
      "text/plain": [
       "<Figure size 2000x2000 with 1 Axes>"
      ]
     },
     "metadata": {
      "needs_background": "light"
     },
     "output_type": "display_data"
    }
   ],
   "source": [
    "plt.figure(figsize=(20,20))\n",
    "plt.imshow((y-outputs).round().squeeze().t())"
   ]
  },
  {
   "cell_type": "code",
   "execution_count": null,
   "metadata": {},
   "outputs": [],
   "source": []
  }
 ],
 "metadata": {
  "kernelspec": {
   "display_name": "Python 3",
   "language": "python",
   "name": "python3"
  },
  "language_info": {
   "codemirror_mode": {
    "name": "ipython",
    "version": 3
   },
   "file_extension": ".py",
   "mimetype": "text/x-python",
   "name": "python",
   "nbconvert_exporter": "python",
   "pygments_lexer": "ipython3",
   "version": "3.6.6"
  }
 },
 "nbformat": 4,
 "nbformat_minor": 2
}
