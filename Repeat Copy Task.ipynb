{
 "cells": [
  {
   "cell_type": "code",
   "execution_count": 1,
   "metadata": {},
   "outputs": [],
   "source": [
    "%load_ext autoreload\n",
    "%autoreload 2\n",
    "\n"
   ]
  },
  {
   "cell_type": "code",
   "execution_count": 2,
   "metadata": {},
   "outputs": [],
   "source": [
    "#%%\n",
    "from ntm import NTM\n",
    "from dataloader import repeat_copy_dataloader\n",
    "from torch import nn, optim\n",
    "import torch\n",
    "import matplotlib.pyplot as plt\n",
    "import matplotlib as mpl\n",
    "from tqdm import tqdm \n",
    "#%%"
   ]
  },
  {
   "cell_type": "code",
   "execution_count": 7,
   "metadata": {},
   "outputs": [],
   "source": [
    "seq_width=8\n",
    "min_seq_len = 1\n",
    "max_seq_len = 10\n",
    "min_repeat = 1\n",
    "max_repeat = 10\n",
    "\n",
    "input_size=seq_width+2\n",
    "output_size= seq_width+1\n",
    "controller_size=100\n",
    "memory_units=128\n",
    "memory_unit_size=20\n",
    "batch_size=1\n",
    "num_heads=1\n",
    "total_iteration =30000\n",
    "num_batches = total_iteration//batch_size \n",
    "\n"
   ]
  },
  {
   "cell_type": "code",
   "execution_count": 8,
   "metadata": {},
   "outputs": [],
   "source": [
    "device = torch.device(\"cpu\")\n",
    "data = repeat_copy_dataloader(num_batches=num_batches,\n",
    "                              batch_size=batch_size,\n",
    "                              seq_width=seq_width,\n",
    "                              min_seq_len=min_seq_len,\n",
    "                              max_seq_len=max_seq_len,\n",
    "                              min_repeat= min_repeat,\n",
    "                              max_repeat= max_repeat,\n",
    "                              device = device\n",
    "                             )\n",
    "\n",
    "ntm = NTM(input_size,output_size,controller_size,memory_units,memory_unit_size,num_heads,device)\n",
    "\n",
    "criterion = nn.BCELoss()\n",
    "optimizer = optim.RMSprop(ntm.parameters(),\n",
    "                          lr=1e-4,\n",
    "                          alpha=0.95,\n",
    "                          momentum=0.9)"
   ]
  },
  {
   "cell_type": "code",
   "execution_count": 21,
   "metadata": {},
   "outputs": [
    {
     "name": "stdout",
     "output_type": "stream",
     "text": [
      "Starting training\n",
      "Finished batch: 0, loss:7.201e-01, cost: 18.0\n",
      "Finished batch: 100, loss:7.047e-01, cost: 5.0\n",
      "Finished batch: 200, loss:7.139e-01, cost: 24.0\n",
      "Finished batch: 300, loss:6.881e-01, cost: 17.0\n",
      "Finished batch: 400, loss:7.496e-01, cost: 6.0\n",
      "Finished batch: 500, loss:6.833e-01, cost: 16.0\n",
      "Finished batch: 600, loss:6.941e-01, cost: 42.0\n",
      "Finished batch: 700, loss:6.997e-01, cost: 58.0\n",
      "Finished batch: 800, loss:6.803e-01, cost: 17.0\n",
      "Finished batch: 900, loss:6.138e-01, cost: 5.0\n",
      "Finished batch: 1000, loss:6.684e-01, cost: 13.0\n",
      "Finished batch: 1100, loss:6.829e-01, cost: 42.0\n",
      "Finished batch: 1200, loss:6.437e-01, cost: 28.0\n",
      "Finished batch: 1300, loss:6.405e-01, cost: 34.0\n",
      "Finished batch: 1400, loss:6.611e-01, cost: 50.0\n",
      "Finished batch: 1500, loss:5.011e-01, cost: 3.0\n",
      "Finished batch: 1600, loss:5.984e-01, cost: 7.0\n",
      "Finished batch: 1700, loss:6.905e-01, cost: 74.0\n",
      "Finished batch: 1800, loss:5.742e-01, cost: 6.0\n",
      "Finished batch: 1900, loss:7.149e-01, cost: 63.0\n",
      "Finished batch: 2000, loss:6.662e-01, cost: 52.0\n",
      "Finished batch: 2100, loss:6.876e-01, cost: 50.0\n",
      "Finished batch: 2200, loss:6.863e-01, cost: 70.0\n",
      "Finished batch: 2300, loss:5.890e-01, cost: 9.0\n",
      "Finished batch: 2400, loss:6.898e-01, cost: 80.0\n",
      "Finished batch: 2500, loss:1.647e-01, cost: 0.0\n",
      "Finished batch: 2600, loss:4.579e-01, cost: 6.0\n",
      "Finished batch: 2700, loss:4.683e-01, cost: 8.0\n",
      "Finished batch: 2800, loss:1.801e-01, cost: 0.0\n",
      "Finished batch: 2900, loss:1.172e-01, cost: 0.0\n",
      "Finished batch: 3000, loss:6.688e-01, cost: 16.0\n",
      "Finished batch: 3100, loss:6.519e-01, cost: 50.0\n",
      "Finished batch: 3200, loss:5.854e-01, cost: 9.0\n",
      "Finished batch: 3300, loss:5.821e-01, cost: 7.0\n",
      "Finished batch: 3400, loss:2.513e-01, cost: 3.0\n",
      "Finished batch: 3500, loss:6.254e-01, cost: 25.0\n",
      "Finished batch: 3600, loss:6.943e-01, cost: 62.0\n",
      "Finished batch: 3700, loss:6.201e-01, cost: 30.0\n",
      "Finished batch: 3800, loss:6.363e-01, cost: 49.0\n",
      "Finished batch: 3900, loss:5.022e-01, cost: 6.0\n",
      "Finished batch: 4000, loss:7.488e-02, cost: 0.0\n",
      "Finished batch: 4100, loss:6.187e-01, cost: 35.0\n",
      "Finished batch: 4200, loss:4.709e-01, cost: 5.0\n",
      "Finished batch: 4300, loss:5.740e-01, cost: 24.0\n",
      "Finished batch: 4400, loss:4.195e-01, cost: 7.0\n",
      "Finished batch: 4500, loss:1.535e-01, cost: 0.0\n",
      "Finished batch: 4600, loss:2.403e-01, cost: 10.0\n",
      "Finished batch: 4700, loss:7.473e-01, cost: 31.0\n",
      "Finished batch: 4800, loss:7.132e-01, cost: 22.0\n",
      "Finished batch: 4900, loss:6.343e-01, cost: 27.0\n",
      "Finished batch: 5000, loss:7.075e-01, cost: 58.0\n",
      "Finished batch: 5100, loss:7.668e-01, cost: 53.0\n",
      "Finished batch: 5200, loss:4.342e-01, cost: 6.0\n",
      "Finished batch: 5300, loss:3.600e-01, cost: 9.0\n",
      "Finished batch: 5400, loss:6.802e-01, cost: 55.0\n",
      "Finished batch: 5500, loss:6.362e-01, cost: 9.0\n",
      "Finished batch: 5600, loss:8.008e-02, cost: 0.0\n",
      "Finished batch: 5700, loss:6.837e-01, cost: 63.0\n",
      "Finished batch: 5800, loss:6.450e-01, cost: 54.0\n",
      "Finished batch: 5900, loss:3.758e-01, cost: 17.0\n",
      "Finished batch: 6000, loss:8.460e-01, cost: 30.0\n",
      "Finished batch: 6100, loss:8.101e-01, cost: 36.0\n",
      "Finished batch: 6200, loss:6.364e-01, cost: 51.0\n",
      "Finished batch: 6300, loss:4.743e-01, cost: 5.0\n",
      "Finished batch: 6400, loss:2.802e-01, cost: 9.0\n",
      "Finished batch: 6500, loss:1.928e-01, cost: 5.0\n",
      "Finished batch: 6600, loss:1.388e-01, cost: 2.0\n",
      "Finished batch: 6700, loss:2.629e-02, cost: 0.0\n",
      "Finished batch: 6800, loss:8.662e-02, cost: 0.0\n",
      "Finished batch: 6900, loss:4.723e-02, cost: 0.0\n",
      "Finished batch: 7000, loss:2.549e-02, cost: 0.0\n",
      "Finished batch: 7100, loss:1.318e-02, cost: 0.0\n",
      "Finished batch: 7200, loss:7.174e-03, cost: 0.0\n",
      "Finished batch: 7300, loss:7.383e-03, cost: 0.0\n",
      "Finished batch: 7400, loss:3.416e-03, cost: 0.0\n",
      "Finished batch: 7500, loss:2.792e-03, cost: 0.0\n",
      "Finished batch: 7600, loss:1.127e-03, cost: 0.0\n",
      "Finished batch: 7700, loss:5.151e-04, cost: 0.0\n",
      "Finished batch: 7800, loss:3.464e-04, cost: 0.0\n",
      "Finished batch: 7900, loss:8.950e-05, cost: 0.0\n",
      "Finished batch: 8000, loss:3.454e-05, cost: 0.0\n",
      "Finished batch: 8100, loss:1.260e-04, cost: 0.0\n",
      "Finished batch: 8200, loss:3.921e-05, cost: 0.0\n",
      "Finished batch: 8300, loss:2.818e-05, cost: 0.0\n",
      "Finished batch: 8400, loss:1.082e-05, cost: 0.0\n",
      "Finished batch: 8500, loss:1.960e-06, cost: 0.0\n",
      "Finished batch: 8600, loss:3.853e-07, cost: 0.0\n",
      "Finished batch: 8700, loss:7.649e-08, cost: 0.0\n",
      "Finished batch: 8800, loss:1.219e-05, cost: 0.0\n",
      "Finished batch: 8900, loss:1.858e-05, cost: 0.0\n",
      "Finished batch: 9000, loss:1.326e-06, cost: 0.0\n",
      "Finished batch: 9100, loss:1.215e-06, cost: 0.0\n",
      "Finished batch: 9200, loss:8.891e-07, cost: 0.0\n",
      "Finished batch: 9300, loss:3.315e-06, cost: 0.0\n",
      "Finished batch: 9400, loss:5.364e-07, cost: 0.0\n",
      "Finished batch: 9500, loss:1.060e-07, cost: 0.0\n",
      "Finished batch: 9600, loss:3.278e-08, cost: 0.0\n",
      "Finished batch: 9700, loss:6.313e-08, cost: 0.0\n",
      "Finished batch: 9800, loss:6.304e-09, cost: 0.0\n",
      "Finished batch: 9900, loss:0.000e+00, cost: 0.0\n"
     ]
    }
   ],
   "source": [
    "#%%\n",
    "print(\"Starting training\")\n",
    "print_every = 200\n",
    "losses =[]\n",
    "errors =[]\n",
    "for batch, (x,y) in(enumerate(data)):\n",
    "    optimizer.zero_grad()\n",
    "    ntm.reset(batch_size)\n",
    "    \n",
    "#     print(\"Sendning inputs\")\n",
    "    for i in range(x.size(0)):\n",
    "        input = x[i]\n",
    "        ntm(input)\n",
    "\n",
    "    outputs = torch.zeros(y.size()).to(device)\n",
    "\n",
    "    zero_input = torch.zeros([batch_size,input_size]).to(device)\n",
    "#     print(\"Finding Outputs\")\n",
    "    for i in range(y.size(0)):\n",
    "        outputs[i],_ = ntm(zero_input)\n",
    "    \n",
    "#     print(\"Backprop step\")\n",
    "#     print(f\"Outputs {outputs}\")\n",
    "#     print(f\"y {y}\")\n",
    "    loss = criterion(outputs, y)\n",
    "    losses.append(loss.item())\n",
    "    loss.backward()\n",
    "    nn.utils.clip_grad_value_(ntm.parameters(), 10)\n",
    "    optimizer.step()\n",
    "    \n",
    "    out_binarized = outputs.clone().data\n",
    "    out_binarized = out_binarized.cpu().detach().apply_(lambda x: 0 if x < 0.5 else 1).to(device)\n",
    "    \n",
    "    # The cost is the number of error bits per sequence\n",
    "    cost = torch.sum(torch.abs(out_binarized - y.data))\n",
    "    errors.append(cost.item()/batch_size)\n",
    "    if (batch%print_every ==0):\n",
    "        print(f\"Finished batch: {batch}, loss:{losses[-1]:.3e}, cost: {errors[-1]}\")\n",
    "        torch.save(ntm.state_dict(), f'checkpoints/repeat_copy/i-{batch}_error_{losses[-1]:.3e}.pt')"
   ]
  },
  {
   "cell_type": "code",
   "execution_count": 22,
   "metadata": {},
   "outputs": [],
   "source": [
    "test = copy_dataloader(1,1,8,10,10,device)\n",
    "x,y = next(test)\n"
   ]
  },
  {
   "cell_type": "code",
   "execution_count": 28,
   "metadata": {},
   "outputs": [],
   "source": [
    "mpl.rcParams['figure.dpi']=100"
   ]
  },
  {
   "cell_type": "markdown",
   "metadata": {},
   "source": [
    "## Target sequence"
   ]
  },
  {
   "cell_type": "code",
   "execution_count": 29,
   "metadata": {},
   "outputs": [
    {
     "data": {
      "text/plain": [
       "<matplotlib.image.AxesImage at 0x28930dc8320>"
      ]
     },
     "execution_count": 29,
     "metadata": {},
     "output_type": "execute_result"
    },
    {
     "data": {
      "image/png": "[encoded data removed]",
      "text/plain": [
       "<Figure size 600x400 with 1 Axes>"
      ]
     },
     "metadata": {
      "needs_background": "light"
     },
     "output_type": "display_data"
    }
   ],
   "source": [
    "plt.imshow(y.squeeze().t())"
   ]
  },
  {
   "cell_type": "code",
   "execution_count": 30,
   "metadata": {},
   "outputs": [],
   "source": [
    "ntm.reset(batch_size=1)\n",
    "with torch.no_grad():\n",
    "    for i in range(x.size(0)):\n",
    "            input = x[i]\n",
    "            ntm(input)\n",
    "    outputs = torch.zeros(y.size())\n",
    "\n",
    "    zero_input = torch.zeros([1,input_size])\n",
    "    #     print(\"Finding Outputs\")\n",
    "    for i in range(y.size(0)):\n",
    "        outputs[i],_ = ntm(zero_input)\n",
    "\n",
    "\n"
   ]
  },
  {
   "cell_type": "markdown",
   "metadata": {},
   "source": [
    "## Output from network "
   ]
  },
  {
   "cell_type": "code",
   "execution_count": 31,
   "metadata": {},
   "outputs": [
    {
     "data": {
      "text/plain": [
       "<matplotlib.image.AxesImage at 0x28935d37278>"
      ]
     },
     "execution_count": 31,
     "metadata": {},
     "output_type": "execute_result"
    },
    {
     "data": {
      "image/png": "[encoded data removed]",
      "text/plain": [
       "<Figure size 600x400 with 1 Axes>"
      ]
     },
     "metadata": {
      "needs_background": "light"
     },
     "output_type": "display_data"
    }
   ],
   "source": [
    "plt.imshow(outputs.squeeze().t())"
   ]
  },
  {
   "cell_type": "markdown",
   "metadata": {},
   "source": [
    "## Error between target and output"
   ]
  },
  {
   "cell_type": "code",
   "execution_count": 33,
   "metadata": {},
   "outputs": [
    {
     "data": {
      "text/plain": [
       "<matplotlib.image.AxesImage at 0x28939794fd0>"
      ]
     },
     "execution_count": 33,
     "metadata": {},
     "output_type": "execute_result"
    },
    {
     "data": {
      "image/png": "[encoded data removed]",
      "text/plain": [
       "<Figure size 600x400 with 1 Axes>"
      ]
     },
     "metadata": {
      "needs_background": "light"
     },
     "output_type": "display_data"
    }
   ],
   "source": [
    "plt.imshow((y-outputs).round().squeeze().t())"
   ]
  },
  {
   "cell_type": "code",
   "execution_count": null,
   "metadata": {},
   "outputs": [],
   "source": []
  }
 ],
 "metadata": {
  "kernelspec": {
   "display_name": "Pytorch",
   "language": "python",
   "name": "torch"
  },
  "language_info": {
   "codemirror_mode": {
    "name": "ipython",
    "version": 3
   },
   "file_extension": ".py",
   "mimetype": "text/x-python",
   "name": "python",
   "nbconvert_exporter": "python",
   "pygments_lexer": "ipython3",
   "version": "3.6.8"
  }
 },
 "nbformat": 4,
 "nbformat_minor": 2
}
