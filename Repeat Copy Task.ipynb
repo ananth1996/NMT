{
 "cells": [
  {
   "cell_type": "code",
   "execution_count": 1,
   "metadata": {},
   "outputs": [],
   "source": [
    "%load_ext autoreload\n",
    "%autoreload 2\n",
    "\n"
   ]
  },
  {
   "cell_type": "code",
   "execution_count": 2,
   "metadata": {},
   "outputs": [],
   "source": [
    "#%%\n",
    "from ntm import NTM\n",
    "from dataloader import repeat_copy_dataloader\n",
    "from torch import nn, optim\n",
    "import torch\n",
    "import matplotlib.pyplot as plt\n",
    "import matplotlib as mpl\n",
    "from tqdm import tqdm \n",
    "#%%"
   ]
  },
  {
   "cell_type": "code",
   "execution_count": 3,
   "metadata": {},
   "outputs": [],
   "source": [
    "seq_width=8\n",
    "min_seq_len = 1\n",
    "max_seq_len = 10\n",
    "min_repeat = 1\n",
    "max_repeat = 10\n",
    "\n",
    "input_size=seq_width+2\n",
    "output_size= seq_width+1\n",
    "controller_size=100\n",
    "memory_units=128\n",
    "memory_unit_size=20\n",
    "batch_size=1\n",
    "num_heads=1\n",
    "total_iteration =100000\n",
    "num_batches = total_iteration//batch_size \n",
    "\n"
   ]
  },
  {
   "cell_type": "code",
   "execution_count": 4,
   "metadata": {},
   "outputs": [],
   "source": [
    "device = torch.device(\"cpu\")\n",
    "data = repeat_copy_dataloader(num_batches=num_batches,\n",
    "                              batch_size=batch_size,\n",
    "                              seq_width=seq_width,\n",
    "                              min_seq_len=min_seq_len,\n",
    "                              max_seq_len=max_seq_len,\n",
    "                              min_repeat= min_repeat,\n",
    "                              max_repeat= max_repeat,\n",
    "                              device = device\n",
    "                             )\n",
    "\n",
    "ntm = NTM(input_size,output_size,controller_size,memory_units,memory_unit_size,num_heads,device)\n",
    "\n",
    "criterion = nn.BCELoss()\n",
    "optimizer = optim.RMSprop(ntm.parameters(),\n",
    "                          lr=1e-4,\n",
    "                          alpha=0.95,\n",
    "                          momentum=0.9)"
   ]
  },
  {
   "cell_type": "code",
   "execution_count": null,
   "metadata": {},
   "outputs": [
    {
     "name": "stdout",
     "output_type": "stream",
     "text": [
      "Starting training\n",
      "Finished batch: 0, loss:6.036e-01, cost: 20.0\n",
      "Finished batch: 205, loss:5.939e-01, cost: 26.0\n",
      "Finished batch: 341, loss:5.917e-01, cost: 145.0\n",
      "Finished batch: 395, loss:5.789e-01, cost: 30.0\n",
      "Finished batch: 425, loss:5.469e-01, cost: 10.0\n",
      "Finished batch: 500, loss:6.306e-01, cost: 290.0\n",
      "Finished batch: 527, loss:5.241e-01, cost: 3.0\n",
      "Finished batch: 609, loss:5.194e-01, cost: 24.0\n",
      "Finished batch: 617, loss:4.626e-01, cost: 30.0\n",
      "Finished batch: 672, loss:4.361e-01, cost: 10.0\n",
      "Finished batch: 767, loss:4.291e-01, cost: 24.0\n",
      "Finished batch: 789, loss:4.105e-01, cost: 21.0\n",
      "Finished batch: 794, loss:3.635e-01, cost: 5.0\n",
      "Finished batch: 832, loss:3.343e-01, cost: 2.0\n",
      "Finished batch: 1000, loss:6.132e-01, cost: 36.0\n",
      "Finished batch: 1286, loss:3.295e-01, cost: 19.0\n",
      "Finished batch: 1302, loss:2.712e-01, cost: 4.0\n",
      "Finished batch: 1377, loss:2.596e-01, cost: 2.0\n",
      "Finished batch: 1500, loss:6.366e-01, cost: 214.0\n",
      "Finished batch: 1570, loss:2.314e-01, cost: 1.0\n",
      "Finished batch: 1847, loss:1.972e-01, cost: 3.0\n",
      "Finished batch: 2000, loss:5.568e-01, cost: 83.0\n",
      "Finished batch: 2030, loss:1.937e-01, cost: 1.0\n",
      "Finished batch: 2069, loss:1.840e-01, cost: 3.0\n",
      "Finished batch: 2131, loss:1.828e-01, cost: 4.0\n",
      "Finished batch: 2217, loss:1.705e-01, cost: 1.0\n",
      "Finished batch: 2500, loss:6.052e-01, cost: 267.0\n",
      "Finished batch: 2710, loss:1.590e-01, cost: 4.0\n",
      "Finished batch: 2744, loss:1.546e-01, cost: 4.0\n",
      "Finished batch: 2818, loss:1.486e-01, cost: 4.0\n",
      "Finished batch: 2891, loss:1.467e-01, cost: 0.0\n",
      "Finished batch: 2958, loss:1.415e-01, cost: 0.0\n",
      "Finished batch: 3000, loss:1.075e+00, cost: 133.0\n",
      "Finished batch: 3500, loss:2.778e-01, cost: 18.0\n",
      "Finished batch: 3571, loss:1.378e-01, cost: 3.0\n",
      "Finished batch: 3617, loss:1.274e-01, cost: 3.0\n",
      "Finished batch: 3730, loss:1.257e-01, cost: 0.0\n",
      "Finished batch: 3732, loss:1.141e-01, cost: 1.0\n",
      "Finished batch: 3782, loss:1.125e-01, cost: 2.0\n",
      "Finished batch: 3795, loss:1.106e-01, cost: 2.0\n",
      "Finished batch: 3798, loss:1.044e-01, cost: 1.0\n",
      "Finished batch: 3841, loss:9.892e-02, cost: 0.0\n",
      "Finished batch: 3871, loss:9.370e-02, cost: 0.0\n",
      "Finished batch: 3876, loss:9.101e-02, cost: 4.0\n",
      "Finished batch: 3933, loss:9.041e-02, cost: 0.0\n",
      "Finished batch: 4000, loss:1.848e-01, cost: 16.0\n",
      "Finished batch: 4030, loss:8.858e-02, cost: 0.0\n",
      "Finished batch: 4111, loss:7.866e-02, cost: 3.0\n",
      "Finished batch: 4168, loss:6.298e-02, cost: 0.0\n",
      "Finished batch: 4226, loss:5.826e-02, cost: 0.0\n",
      "Finished batch: 4317, loss:5.538e-02, cost: 0.0\n",
      "Finished batch: 4500, loss:1.079e-01, cost: 6.0\n",
      "Finished batch: 4659, loss:5.467e-02, cost: 0.0\n",
      "Finished batch: 4683, loss:5.273e-02, cost: 1.0\n",
      "Finished batch: 4707, loss:5.258e-02, cost: 1.0\n",
      "Finished batch: 4933, loss:5.174e-02, cost: 0.0\n",
      "Finished batch: 4972, loss:4.262e-02, cost: 0.0\n",
      "Finished batch: 5000, loss:8.753e-01, cost: 36.0\n",
      "Finished batch: 5420, loss:4.213e-02, cost: 0.0\n",
      "Finished batch: 5500, loss:1.321e+00, cost: 307.0\n",
      "Finished batch: 5744, loss:3.995e-02, cost: 1.0\n",
      "Finished batch: 5750, loss:3.110e-02, cost: 0.0\n",
      "Finished batch: 6000, loss:4.415e-01, cost: 43.0\n",
      "Finished batch: 6116, loss:2.822e-02, cost: 0.0\n",
      "Finished batch: 6265, loss:2.162e-02, cost: 0.0\n",
      "Finished batch: 6500, loss:8.226e-01, cost: 138.0\n",
      "Finished batch: 7000, loss:6.574e-02, cost: 5.0\n",
      "Finished batch: 7399, loss:1.672e-02, cost: 1.0\n",
      "Finished batch: 7500, loss:2.483e-01, cost: 7.0\n",
      "Finished batch: 7518, loss:1.202e-02, cost: 0.0\n",
      "Finished batch: 7737, loss:1.159e-02, cost: 0.0\n",
      "Finished batch: 8000, loss:7.677e-02, cost: 4.0\n",
      "Finished batch: 8202, loss:7.604e-03, cost: 0.0\n",
      "Finished batch: 8475, loss:7.256e-03, cost: 0.0\n",
      "Finished batch: 8500, loss:3.217e-02, cost: 0.0\n",
      "Finished batch: 9000, loss:1.563e-02, cost: 2.0\n",
      "Finished batch: 9500, loss:5.674e-02, cost: 6.0\n",
      "Finished batch: 10000, loss:1.061e-02, cost: 0.0\n",
      "Finished batch: 10500, loss:2.764e-02, cost: 8.0\n",
      "Finished batch: 10556, loss:6.802e-03, cost: 0.0\n",
      "Finished batch: 10713, loss:5.761e-03, cost: 0.0\n",
      "Finished batch: 11000, loss:9.909e-02, cost: 7.0\n",
      "Finished batch: 11079, loss:5.456e-03, cost: 0.0\n",
      "Finished batch: 11500, loss:2.466e+00, cost: 134.0\n",
      "Finished batch: 11550, loss:4.017e-03, cost: 0.0\n",
      "Finished batch: 11835, loss:3.044e-03, cost: 0.0\n",
      "Finished batch: 11860, loss:2.891e-03, cost: 0.0\n",
      "Finished batch: 12000, loss:8.589e-02, cost: 5.0\n",
      "Finished batch: 12422, loss:2.256e-03, cost: 0.0\n",
      "Finished batch: 12500, loss:9.003e-03, cost: 0.0\n",
      "Finished batch: 13000, loss:3.434e-02, cost: 4.0\n",
      "Finished batch: 13304, loss:1.878e-03, cost: 0.0\n",
      "Finished batch: 13500, loss:6.956e-03, cost: 1.0\n",
      "Finished batch: 13910, loss:1.722e-03, cost: 0.0\n",
      "Finished batch: 14000, loss:5.503e-02, cost: 8.0\n",
      "Finished batch: 14500, loss:5.328e-03, cost: 0.0\n",
      "Finished batch: 14619, loss:1.639e-03, cost: 0.0\n",
      "Finished batch: 14695, loss:1.633e-03, cost: 0.0\n",
      "Finished batch: 14809, loss:1.275e-03, cost: 0.0\n",
      "Finished batch: 15000, loss:3.414e-03, cost: 0.0\n",
      "Finished batch: 15239, loss:1.257e-03, cost: 0.0\n",
      "Finished batch: 15500, loss:2.871e-03, cost: 0.0\n",
      "Finished batch: 16000, loss:2.946e-03, cost: 0.0\n",
      "Finished batch: 16026, loss:1.219e-03, cost: 0.0\n",
      "Finished batch: 16048, loss:1.147e-03, cost: 0.0\n",
      "Finished batch: 16105, loss:8.983e-04, cost: 0.0\n",
      "Finished batch: 16500, loss:1.575e-02, cost: 2.0\n",
      "Finished batch: 17000, loss:1.273e-03, cost: 0.0\n",
      "Finished batch: 17074, loss:8.595e-04, cost: 0.0\n",
      "Finished batch: 17500, loss:1.438e-02, cost: 2.0\n",
      "Finished batch: 17597, loss:8.324e-04, cost: 0.0\n",
      "Finished batch: 17614, loss:8.212e-04, cost: 0.0\n",
      "Finished batch: 17716, loss:8.084e-04, cost: 0.0\n",
      "Finished batch: 18000, loss:5.616e-02, cost: 5.0\n",
      "Finished batch: 18089, loss:6.469e-04, cost: 0.0\n",
      "Finished batch: 18400, loss:5.959e-04, cost: 0.0\n",
      "Finished batch: 18427, loss:5.859e-04, cost: 0.0\n",
      "Finished batch: 18500, loss:1.300e-03, cost: 0.0\n",
      "Finished batch: 18525, loss:5.691e-04, cost: 0.0\n",
      "Finished batch: 18810, loss:5.282e-04, cost: 0.0\n",
      "Finished batch: 19000, loss:1.046e-02, cost: 2.0\n",
      "Finished batch: 19069, loss:4.561e-04, cost: 0.0\n",
      "Finished batch: 19176, loss:4.470e-04, cost: 0.0\n",
      "Finished batch: 19500, loss:2.042e-03, cost: 0.0\n",
      "Finished batch: 20000, loss:3.484e-03, cost: 0.0\n",
      "Finished batch: 20500, loss:4.151e-03, cost: 1.0\n",
      "Finished batch: 20607, loss:4.037e-04, cost: 0.0\n",
      "Finished batch: 20625, loss:3.286e-04, cost: 0.0\n",
      "Finished batch: 21000, loss:2.605e-03, cost: 0.0\n",
      "Finished batch: 21137, loss:3.153e-04, cost: 0.0\n",
      "Finished batch: 21395, loss:3.117e-04, cost: 0.0\n",
      "Finished batch: 21500, loss:4.090e-03, cost: 1.0\n",
      "Finished batch: 21527, loss:2.981e-04, cost: 0.0\n",
      "Finished batch: 21634, loss:2.757e-04, cost: 0.0\n",
      "Finished batch: 21924, loss:2.706e-04, cost: 0.0\n",
      "Finished batch: 22000, loss:3.510e-04, cost: 0.0\n",
      "Finished batch: 22019, loss:2.274e-04, cost: 0.0\n",
      "Finished batch: 22500, loss:6.045e-04, cost: 0.0\n",
      "Finished batch: 22602, loss:2.116e-04, cost: 0.0\n",
      "Finished batch: 22635, loss:1.974e-04, cost: 0.0\n",
      "Finished batch: 22661, loss:1.904e-04, cost: 0.0\n",
      "Finished batch: 22706, loss:1.762e-04, cost: 0.0\n",
      "Finished batch: 22908, loss:1.656e-04, cost: 0.0\n",
      "Finished batch: 23000, loss:1.338e-03, cost: 0.0\n",
      "Finished batch: 23500, loss:4.399e-04, cost: 0.0\n",
      "Finished batch: 23674, loss:1.541e-04, cost: 0.0\n",
      "Finished batch: 23676, loss:1.463e-04, cost: 0.0\n",
      "Finished batch: 23909, loss:1.388e-04, cost: 0.0\n",
      "Finished batch: 24000, loss:9.979e-02, cost: 12.0\n",
      "Finished batch: 24500, loss:7.091e-04, cost: 0.0\n",
      "Finished batch: 25000, loss:9.891e-04, cost: 0.0\n",
      "Finished batch: 25500, loss:1.138e-03, cost: 0.0\n",
      "Finished batch: 26000, loss:3.920e-03, cost: 0.0\n",
      "Finished batch: 26500, loss:1.762e-03, cost: 0.0\n",
      "Finished batch: 27000, loss:6.468e-04, cost: 0.0\n",
      "Finished batch: 27500, loss:1.064e-03, cost: 0.0\n",
      "Finished batch: 28000, loss:1.656e-03, cost: 0.0\n",
      "Finished batch: 28228, loss:1.260e-04, cost: 0.0\n",
      "Finished batch: 28500, loss:4.019e-04, cost: 0.0\n",
      "Finished batch: 28931, loss:1.250e-04, cost: 0.0\n",
      "Finished batch: 28938, loss:9.880e-05, cost: 0.0\n",
      "Finished batch: 29000, loss:2.844e-04, cost: 0.0\n",
      "Finished batch: 29500, loss:1.493e-03, cost: 0.0\n",
      "Finished batch: 30000, loss:4.052e-04, cost: 0.0\n",
      "Finished batch: 30500, loss:2.180e-03, cost: 0.0\n",
      "Finished batch: 31000, loss:2.229e-04, cost: 0.0\n",
      "Finished batch: 31500, loss:3.173e-03, cost: 0.0\n",
      "Finished batch: 31773, loss:9.267e-05, cost: 0.0\n",
      "Finished batch: 31821, loss:7.636e-05, cost: 0.0\n",
      "Finished batch: 31904, loss:7.255e-05, cost: 0.0\n",
      "Finished batch: 31911, loss:6.711e-05, cost: 0.0\n",
      "Finished batch: 31953, loss:6.550e-05, cost: 0.0\n",
      "Finished batch: 32000, loss:6.358e-03, cost: 2.0\n",
      "Finished batch: 32452, loss:3.363e-05, cost: 0.0\n",
      "Finished batch: 32500, loss:1.667e-04, cost: 0.0\n",
      "Finished batch: 33000, loss:1.024e-04, cost: 0.0\n",
      "Finished batch: 33500, loss:1.173e-04, cost: 0.0\n",
      "Finished batch: 34000, loss:2.710e-03, cost: 0.0\n",
      "Finished batch: 34500, loss:3.021e-04, cost: 0.0\n",
      "Finished batch: 35000, loss:3.624e-03, cost: 0.0\n",
      "Finished batch: 35500, loss:6.856e-04, cost: 0.0\n",
      "Finished batch: 36000, loss:1.841e-03, cost: 0.0\n",
      "Finished batch: 36500, loss:7.175e-04, cost: 0.0\n",
      "Finished batch: 37000, loss:2.457e-04, cost: 0.0\n",
      "Finished batch: 37142, loss:2.669e-05, cost: 0.0\n",
      "Finished batch: 37500, loss:3.919e-04, cost: 0.0\n",
      "Finished batch: 38000, loss:1.703e-04, cost: 0.0\n",
      "Finished batch: 38500, loss:1.721e-04, cost: 0.0\n",
      "Finished batch: 39000, loss:1.444e-04, cost: 0.0\n",
      "Finished batch: 39107, loss:2.553e-05, cost: 0.0\n",
      "Finished batch: 39115, loss:2.480e-05, cost: 0.0\n",
      "Finished batch: 39191, loss:2.390e-05, cost: 0.0\n",
      "Finished batch: 39196, loss:1.773e-05, cost: 0.0\n",
      "Finished batch: 39222, loss:9.863e-06, cost: 0.0\n",
      "Finished batch: 39500, loss:4.511e-05, cost: 0.0\n",
      "Finished batch: 40000, loss:2.000e-04, cost: 0.0\n",
      "Finished batch: 40447, loss:7.734e-06, cost: 0.0\n",
      "Finished batch: 40500, loss:7.706e-05, cost: 0.0\n",
      "Finished batch: 41000, loss:3.700e-04, cost: 0.0\n",
      "Finished batch: 41500, loss:1.159e-04, cost: 0.0\n",
      "Finished batch: 42000, loss:9.335e-05, cost: 0.0\n",
      "Finished batch: 42500, loss:3.924e-03, cost: 0.0\n",
      "Finished batch: 43000, loss:4.508e+00, cost: 36.0\n",
      "Finished batch: 44000, loss:6.175e-05, cost: 0.0\n",
      "Finished batch: 44500, loss:8.457e-05, cost: 0.0\n",
      "Finished batch: 45000, loss:1.845e-04, cost: 0.0\n",
      "Finished batch: 45500, loss:7.770e-05, cost: 0.0\n",
      "Finished batch: 46000, loss:7.014e-05, cost: 0.0\n",
      "Finished batch: 46500, loss:8.022e-04, cost: 0.0\n",
      "Finished batch: 47000, loss:2.023e-04, cost: 0.0\n",
      "Finished batch: 47500, loss:1.378e-04, cost: 0.0\n",
      "Finished batch: 48000, loss:5.349e-04, cost: 0.0\n",
      "Finished batch: 49000, loss:1.256e-03, cost: 0.0\n",
      "Finished batch: 49500, loss:8.471e-03, cost: 3.0\n",
      "Finished batch: 50000, loss:9.069e-05, cost: 0.0\n",
      "Finished batch: 50500, loss:1.003e-04, cost: 0.0\n",
      "Finished batch: 51000, loss:6.004e-05, cost: 0.0\n",
      "Finished batch: 51500, loss:3.627e-04, cost: 0.0\n",
      "Finished batch: 51956, loss:6.304e-06, cost: 0.0\n",
      "Finished batch: 52000, loss:2.346e-05, cost: 0.0\n",
      "Finished batch: 52019, loss:6.133e-06, cost: 0.0\n",
      "Finished batch: 52021, loss:1.529e-06, cost: 0.0\n",
      "Finished batch: 52500, loss:2.732e-04, cost: 0.0\n",
      "Finished batch: 53000, loss:5.742e-05, cost: 0.0\n",
      "Finished batch: 53500, loss:1.769e-04, cost: 0.0\n",
      "Finished batch: 54000, loss:3.072e-04, cost: 0.0\n",
      "Finished batch: 54500, loss:7.110e-05, cost: 0.0\n",
      "Finished batch: 54804, loss:9.206e-07, cost: 0.0\n",
      "Finished batch: 55000, loss:2.177e-05, cost: 0.0\n",
      "Finished batch: 55500, loss:1.041e-04, cost: 0.0\n",
      "Finished batch: 56000, loss:3.604e-05, cost: 0.0\n",
      "Finished batch: 56500, loss:1.727e-04, cost: 0.0\n",
      "Finished batch: 57000, loss:8.029e-05, cost: 0.0\n",
      "Finished batch: 57500, loss:1.813e-04, cost: 0.0\n",
      "Finished batch: 58000, loss:1.462e-04, cost: 0.0\n",
      "Finished batch: 58500, loss:1.737e-05, cost: 0.0\n",
      "Finished batch: 59000, loss:5.763e-05, cost: 0.0\n",
      "Finished batch: 59500, loss:1.047e-04, cost: 0.0\n",
      "Finished batch: 60000, loss:2.412e-05, cost: 0.0\n",
      "Finished batch: 60500, loss:1.682e-04, cost: 0.0\n",
      "Finished batch: 61000, loss:6.490e-05, cost: 0.0\n",
      "Finished batch: 61284, loss:8.490e-07, cost: 0.0\n",
      "Finished batch: 61500, loss:4.758e-06, cost: 0.0\n",
      "Finished batch: 62000, loss:1.134e-04, cost: 0.0\n",
      "Finished batch: 62500, loss:1.803e-05, cost: 0.0\n",
      "Finished batch: 63000, loss:2.915e-04, cost: 0.0\n",
      "Finished batch: 63500, loss:6.659e-05, cost: 0.0\n",
      "Finished batch: 64000, loss:8.853e-04, cost: 0.0\n",
      "Finished batch: 64500, loss:7.731e-03, cost: 1.0\n",
      "Finished batch: 65000, loss:4.772e-04, cost: 0.0\n",
      "Finished batch: 65500, loss:2.548e-04, cost: 0.0\n",
      "Finished batch: 66000, loss:2.609e-05, cost: 0.0\n",
      "Finished batch: 66500, loss:1.080e-05, cost: 0.0\n",
      "Finished batch: 67000, loss:4.038e-05, cost: 0.0\n",
      "Finished batch: 67500, loss:3.298e-04, cost: 0.0\n",
      "Finished batch: 68000, loss:7.318e-05, cost: 0.0\n",
      "Finished batch: 68500, loss:2.148e-03, cost: 1.0\n",
      "Finished batch: 69000, loss:3.352e-05, cost: 0.0\n",
      "Finished batch: 69500, loss:4.787e-04, cost: 0.0\n",
      "Finished batch: 70000, loss:2.679e-04, cost: 0.0\n",
      "Finished batch: 70500, loss:2.096e-03, cost: 0.0\n",
      "Finished batch: 71000, loss:3.426e-05, cost: 0.0\n"
     ]
    }
   ],
   "source": [
    "#%%\n",
    "print(\"Starting training\")\n",
    "print_every = 500\n",
    "losses =[]\n",
    "errors =[]\n",
    "best_error = 1e6\n",
    "for batch, (x,y) in(enumerate(data)):\n",
    "    optimizer.zero_grad()\n",
    "    ntm.reset(batch_size)\n",
    "    \n",
    "#     print(\"Sendning inputs\")\n",
    "    for i in range(x.size(0)):\n",
    "        input = x[i]\n",
    "        ntm(input)\n",
    "\n",
    "    outputs = torch.zeros(y.size()).to(device)\n",
    "\n",
    "    zero_input = torch.zeros([batch_size,input_size]).to(device)\n",
    "#     print(\"Finding Outputs\")\n",
    "    for i in range(y.size(0)):\n",
    "        outputs[i],_ = ntm(zero_input)\n",
    "    \n",
    "#     print(\"Backprop step\")\n",
    "#     print(f\"Outputs {outputs}\")\n",
    "#     print(f\"y {y}\")\n",
    "    loss = criterion(outputs, y)\n",
    "    losses.append(loss.item())\n",
    "    loss.backward()\n",
    "    nn.utils.clip_grad_value_(ntm.parameters(), 10)\n",
    "    optimizer.step()\n",
    "    \n",
    "    out_binarized = outputs.clone().data\n",
    "    out_binarized = out_binarized.cpu().detach().apply_(lambda x: 0 if x < 0.5 else 1).to(device)\n",
    "    \n",
    "    # The cost is the number of error bits per sequence\n",
    "    cost = torch.sum(torch.abs(out_binarized - y.data))\n",
    "    errors.append(cost.item()/batch_size)\n",
    "    best_error = min(best_error,losses[-1])\n",
    "    if (batch%print_every ==0 or best_error == losses[-1]):\n",
    "        print(f\"Finished batch: {batch}, loss:{losses[-1]:.3e}, cost: {errors[-1]}\")\n",
    "        torch.save(ntm.state_dict(), f'checkpoints/repeat_copy/v2-{batch}_error_{losses[-1]:.3e}_cost_{int(errors[-1])}.pt')\n"
   ]
  },
  {
   "cell_type": "code",
   "execution_count": 5,
   "metadata": {},
   "outputs": [],
   "source": [
    "mpl.rcParams['figure.dpi']=100\n",
    "plt.rcParams['image.cmap'] = 'binary_r'\n",
    "plt.rcParams['image.cmap'] = 'Blues_r'"
   ]
  },
  {
   "cell_type": "code",
   "execution_count": 16,
   "metadata": {},
   "outputs": [
    {
     "data": {
      "text/plain": [
       "IncompatibleKeys(missing_keys=[], unexpected_keys=[])"
      ]
     },
     "execution_count": 16,
     "metadata": {},
     "output_type": "execute_result"
    }
   ],
   "source": [
    "ntm_loaded = NTM(input_size,output_size,controller_size,memory_units,memory_unit_size,num_heads,device)\n",
    "ntm_loaded.load_state_dict(torch.load(\"checkpoints/repeat_copy/v2-93500_error_9.683e-06_cost_0.pt\"))"
   ]
  },
  {
   "cell_type": "markdown",
   "metadata": {},
   "source": [
    "## Input and Target"
   ]
  },
  {
   "cell_type": "code",
   "execution_count": 145,
   "metadata": {},
   "outputs": [
    {
     "data": {
      "image/png": "[encoded data removed]",
      "text/plain": [
       "<Figure size 2000x2000 with 2 Axes>"
      ]
     },
     "metadata": {
      "needs_background": "light"
     },
     "output_type": "display_data"
    }
   ],
   "source": [
    "test = repeat_copy_dataloader(1,1,8,60,60,1,10,device)\n",
    "x,y = next(test)\n",
    "fig, (ax1, ax2) = plt.subplots(1,2,figsize=(20,20),gridspec_kw={'width_ratios': [1, 5]})\n",
    "ax1.imshow(x.squeeze().t())\n",
    "ax1.set_title(\"Input Sequence\")\n",
    "ax2.imshow(y.squeeze().t())\n",
    "ax2.set_title(\"Target Sequence\")\n",
    "plt.show()"
   ]
  },
  {
   "cell_type": "code",
   "execution_count": 146,
   "metadata": {},
   "outputs": [],
   "source": [
    "import numpy as np\n",
    "def print_head(h):\n",
    "    fig, (ax1, ax2) = plt.subplots(1, 2,figsize=(20,20))\n",
    "    fig\n",
    "    h = np.array(h)\n",
    "    r = h[:,0,:,:]\n",
    "    w = h[:,1,:,:]\n",
    "   # ax1.figure(figsize=(10,20))\n",
    "    ax1.imshow(r.T.squeeze())\n",
    "    ax1.set_title(\"Read Head locations\")\n",
    "#     plt.show()\n",
    "#     plt.figure(figsize=(10,20))\n",
    "    ax2.imshow(w.T.squeeze())\n",
    "    ax2.set_title(\"Write Head locations\")\n",
    "    plt.show()"
   ]
  },
  {
   "cell_type": "code",
   "execution_count": 147,
   "metadata": {},
   "outputs": [],
   "source": [
    "# model = ntm\n",
    "model = ntm_loaded\n",
    "model.reset(batch_size=1)\n",
    "with torch.no_grad():\n",
    "    h1 =[]\n",
    "    for i in range(x.size(0)):\n",
    "            input = x[i]\n",
    "            _,head = model(input)\n",
    "            h1.append(head)\n",
    "    outputs = torch.zeros(y.size())\n",
    "    \n",
    "    zero_input = torch.zeros([1,input_size])\n",
    "    #     print(\"Finding Outputs\")\n",
    "    h2 =[]\n",
    "    for i in range(y.size(0)):\n",
    "        outputs[i],head = model(zero_input)\n",
    "        h2.append(head)\n",
    "    head_weights = np.concatenate((np.array(h1),np.array(h2)),axis=0)\n",
    "\n",
    "\n"
   ]
  },
  {
   "cell_type": "markdown",
   "metadata": {},
   "source": [
    "## Output from network "
   ]
  },
  {
   "cell_type": "code",
   "execution_count": 148,
   "metadata": {},
   "outputs": [
    {
     "data": {
      "image/png": "[encoded data removed]",
      "text/plain": [
       "<Figure size 2000x2000 with 1 Axes>"
      ]
     },
     "metadata": {
      "needs_background": "light"
     },
     "output_type": "display_data"
    },
    {
     "data": {
      "image/png": "[encoded data removed]",
      "text/plain": [
       "<Figure size 2000x2000 with 2 Axes>"
      ]
     },
     "metadata": {
      "needs_background": "light"
     },
     "output_type": "display_data"
    }
   ],
   "source": [
    "plt.figure(figsize=(20,20))\n",
    "plt.imshow(outputs.squeeze().t())\n",
    "print_head(head_weights)"
   ]
  },
  {
   "cell_type": "markdown",
   "metadata": {},
   "source": [
    "## Error between target and output"
   ]
  },
  {
   "cell_type": "code",
   "execution_count": 149,
   "metadata": {},
   "outputs": [
    {
     "data": {
      "image/png": "[encoded data removed]",
      "text/plain": [
       "<Figure size 2000x2000 with 1 Axes>"
      ]
     },
     "metadata": {
      "needs_background": "light"
     },
     "output_type": "display_data"
    }
   ],
   "source": [
    "plt.figure(figsize=(20,20))\n",
    "plt.imshow((y-outputs).round().squeeze().t())\n",
    "plt.show()"
   ]
  },
  {
   "cell_type": "code",
   "execution_count": null,
   "metadata": {},
   "outputs": [],
   "source": []
  }
 ],
 "metadata": {
  "kernelspec": {
   "display_name": "Pytorch",
   "language": "python",
   "name": "torch"
  },
  "language_info": {
   "codemirror_mode": {
    "name": "ipython",
    "version": 3
   },
   "file_extension": ".py",
   "mimetype": "text/x-python",
   "name": "python",
   "nbconvert_exporter": "python",
   "pygments_lexer": "ipython3",
   "version": "3.6.8"
  }
 },
 "nbformat": 4,
 "nbformat_minor": 2
}
