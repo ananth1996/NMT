{
 "cells": [
  {
   "cell_type": "code",
   "execution_count": 1,
   "metadata": {},
   "outputs": [],
   "source": [
    "%load_ext autoreload\n",
    "%autoreload 2"
   ]
  },
  {
   "cell_type": "code",
   "execution_count": 49,
   "metadata": {},
   "outputs": [],
   "source": [
    "#%%\n",
    "from ntm import NTM\n",
    "from dataloader import copy_dataloader\n",
    "from torch import nn, optim\n",
    "import torch\n",
    "import matplotlib.pyplot as plt\n",
    "import matplotlib as mpl\n",
    "#%%"
   ]
  },
  {
   "cell_type": "code",
   "execution_count": 10,
   "metadata": {},
   "outputs": [],
   "source": [
    "input_size=8+2\n",
    "output_size=8\n",
    "controller_size=100\n",
    "memory_units=128\n",
    "memory_unit_size=20\n",
    "batch_size=1\n",
    "num_heads=1\n",
    "total_iteration =10000\n",
    "num_batches = total_iteration//batch_size "
   ]
  },
  {
   "cell_type": "code",
   "execution_count": 11,
   "metadata": {},
   "outputs": [],
   "source": [
    "device = torch.device(\"cpu\")\n",
    "data = copy_dataloader(num_batches,batch_size,8,1,20,device)\n",
    "\n",
    "ntm = NTM(input_size,output_size,controller_size,memory_units,memory_unit_size,num_heads)\n",
    "\n",
    "criterion = nn.BCELoss()\n",
    "optimizer = optim.RMSprop(ntm.parameters(),\n",
    "                          lr=1e-4,\n",
    "                          alpha=0.95,\n",
    "                          momentum=0.9)"
   ]
  },
  {
   "cell_type": "code",
   "execution_count": 12,
   "metadata": {},
   "outputs": [
    {
     "name": "stdout",
     "output_type": "stream",
     "text": [
      "Starting training\n",
      "Finished batch: 0, loss:7.017e-01, cost: 45.0\n",
      "Finished batch: 100, loss:6.993e-01, cost: 73.0\n",
      "Finished batch: 200, loss:6.903e-01, cost: 34.0\n",
      "Finished batch: 300, loss:6.960e-01, cost: 20.0\n",
      "Finished batch: 400, loss:6.942e-01, cost: 61.0\n",
      "Finished batch: 500, loss:6.975e-01, cost: 70.0\n",
      "Finished batch: 600, loss:6.902e-01, cost: 6.0\n",
      "Finished batch: 700, loss:6.935e-01, cost: 51.0\n",
      "Finished batch: 800, loss:6.945e-01, cost: 68.0\n",
      "Finished batch: 900, loss:6.811e-01, cost: 34.0\n",
      "Finished batch: 1000, loss:7.012e-01, cost: 70.0\n",
      "Finished batch: 1100, loss:6.676e-01, cost: 29.0\n",
      "Finished batch: 1200, loss:6.430e-01, cost: 10.0\n",
      "Finished batch: 1300, loss:6.833e-01, cost: 66.0\n",
      "Finished batch: 1400, loss:6.734e-01, cost: 39.0\n",
      "Finished batch: 1500, loss:6.948e-01, cost: 71.0\n",
      "Finished batch: 1600, loss:6.795e-01, cost: 49.0\n",
      "Finished batch: 1700, loss:3.117e-01, cost: 0.0\n",
      "Finished batch: 1800, loss:6.772e-01, cost: 18.0\n",
      "Finished batch: 1900, loss:6.586e-01, cost: 29.0\n",
      "Finished batch: 2000, loss:6.725e-01, cost: 57.0\n",
      "Finished batch: 2100, loss:4.937e-01, cost: 5.0\n",
      "Finished batch: 2200, loss:6.832e-01, cost: 65.0\n",
      "Finished batch: 2300, loss:5.808e-01, cost: 7.0\n",
      "Finished batch: 2400, loss:3.677e-01, cost: 2.0\n",
      "Finished batch: 2500, loss:6.810e-01, cost: 69.0\n",
      "Finished batch: 2600, loss:6.533e-01, cost: 37.0\n",
      "Finished batch: 2700, loss:6.307e-01, cost: 13.0\n",
      "Finished batch: 2800, loss:6.811e-01, cost: 70.0\n",
      "Finished batch: 2900, loss:6.004e-01, cost: 21.0\n",
      "Finished batch: 3000, loss:4.328e-01, cost: 4.0\n",
      "Finished batch: 3100, loss:6.188e-01, cost: 19.0\n",
      "Finished batch: 3200, loss:6.703e-01, cost: 37.0\n",
      "Finished batch: 3300, loss:6.516e-01, cost: 36.0\n",
      "Finished batch: 3400, loss:6.785e-01, cost: 70.0\n",
      "Finished batch: 3500, loss:6.401e-01, cost: 27.0\n",
      "Finished batch: 3600, loss:6.398e-01, cost: 13.0\n",
      "Finished batch: 3700, loss:6.742e-01, cost: 65.0\n",
      "Finished batch: 3800, loss:6.537e-01, cost: 54.0\n",
      "Finished batch: 3900, loss:6.386e-01, cost: 36.0\n",
      "Finished batch: 4000, loss:6.703e-01, cost: 32.0\n",
      "Finished batch: 4100, loss:6.462e-02, cost: 0.0\n",
      "Finished batch: 4200, loss:5.998e-01, cost: 18.0\n",
      "Finished batch: 4300, loss:5.337e-02, cost: 0.0\n",
      "Finished batch: 4400, loss:6.004e-01, cost: 26.0\n",
      "Finished batch: 4500, loss:6.038e-01, cost: 13.0\n",
      "Finished batch: 4600, loss:4.756e-01, cost: 6.0\n",
      "Finished batch: 4700, loss:6.391e-01, cost: 29.0\n",
      "Finished batch: 4800, loss:6.809e-01, cost: 74.0\n",
      "Finished batch: 4900, loss:2.785e-02, cost: 0.0\n",
      "Finished batch: 5000, loss:2.853e-01, cost: 3.0\n",
      "Finished batch: 5100, loss:4.143e-02, cost: 0.0\n",
      "Finished batch: 5200, loss:7.863e-02, cost: 0.0\n",
      "Finished batch: 5300, loss:3.635e-02, cost: 0.0\n",
      "Finished batch: 5400, loss:2.477e-02, cost: 0.0\n",
      "Finished batch: 5500, loss:1.217e-02, cost: 0.0\n",
      "Finished batch: 5600, loss:8.037e-01, cost: 35.0\n",
      "Finished batch: 5700, loss:7.094e-01, cost: 76.0\n",
      "Finished batch: 5800, loss:4.451e-01, cost: 8.0\n",
      "Finished batch: 5900, loss:3.450e-03, cost: 0.0\n",
      "Finished batch: 6000, loss:1.207e-01, cost: 7.0\n",
      "Finished batch: 6100, loss:1.432e-02, cost: 0.0\n",
      "Finished batch: 6200, loss:4.002e-03, cost: 0.0\n",
      "Finished batch: 6300, loss:1.100e-03, cost: 0.0\n",
      "Finished batch: 6400, loss:3.139e-04, cost: 0.0\n",
      "Finished batch: 6500, loss:6.249e-05, cost: 0.0\n",
      "Finished batch: 6600, loss:1.653e-03, cost: 0.0\n",
      "Finished batch: 6700, loss:2.299e-04, cost: 0.0\n",
      "Finished batch: 6800, loss:5.692e-05, cost: 0.0\n",
      "Finished batch: 6900, loss:8.129e-05, cost: 0.0\n",
      "Finished batch: 7000, loss:9.345e-05, cost: 0.0\n",
      "Finished batch: 7100, loss:8.308e-05, cost: 0.0\n",
      "Finished batch: 7200, loss:1.060e-04, cost: 0.0\n",
      "Finished batch: 7300, loss:6.495e-05, cost: 0.0\n",
      "Finished batch: 7400, loss:2.609e-05, cost: 0.0\n",
      "Finished batch: 7500, loss:4.065e-06, cost: 0.0\n",
      "Finished batch: 7600, loss:9.000e-07, cost: 0.0\n",
      "Finished batch: 7700, loss:5.753e-05, cost: 0.0\n",
      "Finished batch: 7800, loss:2.673e-06, cost: 0.0\n",
      "Finished batch: 7900, loss:1.396e-06, cost: 0.0\n",
      "Finished batch: 8000, loss:5.044e-07, cost: 0.0\n",
      "Finished batch: 8100, loss:1.895e-07, cost: 0.0\n",
      "Finished batch: 8200, loss:6.830e-08, cost: 0.0\n",
      "Finished batch: 8300, loss:8.692e-09, cost: 0.0\n",
      "Finished batch: 8400, loss:6.209e-09, cost: 0.0\n",
      "Finished batch: 8500, loss:1.961e-09, cost: 0.0\n",
      "Finished batch: 8600, loss:6.274e-09, cost: 0.0\n",
      "Finished batch: 8700, loss:0.000e+00, cost: 0.0\n",
      "Finished batch: 8800, loss:1.863e-08, cost: 0.0\n",
      "Finished batch: 8900, loss:7.053e-08, cost: 0.0\n",
      "Finished batch: 9000, loss:2.719e-08, cost: 0.0\n",
      "Finished batch: 9100, loss:4.657e-08, cost: 0.0\n",
      "Finished batch: 9200, loss:1.242e-08, cost: 0.0\n",
      "Finished batch: 9300, loss:0.000e+00, cost: 0.0\n",
      "Finished batch: 9400, loss:0.000e+00, cost: 0.0\n",
      "Finished batch: 9500, loss:0.000e+00, cost: 0.0\n",
      "Finished batch: 9600, loss:0.000e+00, cost: 0.0\n",
      "Finished batch: 9700, loss:2.484e-09, cost: 0.0\n",
      "Finished batch: 9800, loss:0.000e+00, cost: 0.0\n",
      "Finished batch: 9900, loss:0.000e+00, cost: 0.0\n"
     ]
    }
   ],
   "source": [
    "#%%\n",
    "print(\"Starting training\")\n",
    "print_every = 100\n",
    "losses =[]\n",
    "errors =[]\n",
    "for batch, (x,y) in enumerate(data):\n",
    "    optimizer.zero_grad()\n",
    "    ntm.reset(batch_size)\n",
    "    \n",
    "#     print(\"Sendning inputs\")\n",
    "    for i in range(x.size(0)):\n",
    "        input = x[i]\n",
    "        ntm(input)\n",
    "\n",
    "    outputs = torch.zeros(y.size())\n",
    "\n",
    "    zero_input = torch.zeros([batch_size,input_size])\n",
    "#     print(\"Finding Outputs\")\n",
    "    for i in range(y.size(0)):\n",
    "        outputs[i] = ntm(zero_input)\n",
    "    \n",
    "#     print(\"Backprop step\")\n",
    "    loss = criterion(outputs, y)\n",
    "    losses.append(loss.item())\n",
    "    loss.backward()\n",
    "    nn.utils.clip_grad_value_(ntm.parameters(), 10)\n",
    "    optimizer.step()\n",
    "    \n",
    "    out_binarized = outputs.clone().data\n",
    "    out_binarized = out_binarized.detach().apply_(lambda x: 0 if x < 0.5 else 1)\n",
    "    \n",
    "    # The cost is the number of error bits per sequence\n",
    "    cost = torch.sum(torch.abs(out_binarized - y.data))\n",
    "    errors.append(cost.item()/batch_size)\n",
    "    if (batch%print_every ==0):\n",
    "        print(f\"Finished batch: {batch}, loss:{losses[-1]:.3e}, cost: {errors[-1]}\")\n",
    "        torch.save(ntm, f'checkpoints/i-{batch}_error_{losses[-1]:.3e}.pt')"
   ]
  },
  {
   "cell_type": "code",
   "execution_count": 75,
   "metadata": {},
   "outputs": [],
   "source": [
    "test = copy_dataloader(1,1,8,120,120,device)\n",
    "x,y = next(test)\n"
   ]
  },
  {
   "cell_type": "code",
   "execution_count": 76,
   "metadata": {},
   "outputs": [],
   "source": [
    "mpl.rcParams['figure.dpi']=300"
   ]
  },
  {
   "cell_type": "code",
   "execution_count": 77,
   "metadata": {},
   "outputs": [
    {
     "data": {
      "text/plain": [
       "<matplotlib.image.AxesImage at 0x7f04e55f92e8>"
      ]
     },
     "execution_count": 77,
     "metadata": {},
     "output_type": "execute_result"
    },
    {
     "data": {
      "image/png": "[encoded data removed]",
      "text/plain": [
       "<Figure size 1800x1200 with 1 Axes>"
      ]
     },
     "metadata": {
      "needs_background": "light"
     },
     "output_type": "display_data"
    }
   ],
   "source": [
    "plt.imshow(y.squeeze().t())"
   ]
  },
  {
   "cell_type": "code",
   "execution_count": 78,
   "metadata": {},
   "outputs": [],
   "source": [
    "ntm.reset(batch_size=1)\n",
    "with torch.no_grad():\n",
    "    for i in range(x.size(0)):\n",
    "            input = x[i]\n",
    "            ntm(input)\n",
    "    outputs = torch.zeros(y.size())\n",
    "\n",
    "    zero_input = torch.zeros([1,input_size])\n",
    "    #     print(\"Finding Outputs\")\n",
    "    for i in range(y.size(0)):\n",
    "        outputs[i] = ntm(zero_input)\n",
    "\n",
    "\n"
   ]
  },
  {
   "cell_type": "code",
   "execution_count": 79,
   "metadata": {},
   "outputs": [
    {
     "data": {
      "text/plain": [
       "<matplotlib.image.AxesImage at 0x7f04e5543b70>"
      ]
     },
     "execution_count": 79,
     "metadata": {},
     "output_type": "execute_result"
    },
    {
     "data": {
      "image/png": "[encoded data removed]",
      "text/plain": [
       "<Figure size 1800x1200 with 1 Axes>"
      ]
     },
     "metadata": {
      "needs_background": "light"
     },
     "output_type": "display_data"
    }
   ],
   "source": [
    "plt.imshow(outputs.squeeze().t())"
   ]
  },
  {
   "cell_type": "code",
   "execution_count": 80,
   "metadata": {},
   "outputs": [
    {
     "data": {
      "text/plain": [
       "<matplotlib.image.AxesImage at 0x7f04e55174e0>"
      ]
     },
     "execution_count": 80,
     "metadata": {},
     "output_type": "execute_result"
    },
    {
     "data": {
      "image/png": "[encoded data removed]",
      "text/plain": [
       "<Figure size 1800x1200 with 1 Axes>"
      ]
     },
     "metadata": {
      "needs_background": "light"
     },
     "output_type": "display_data"
    }
   ],
   "source": [
    "plt.imshow((outputs-y).round().squeeze().t())"
   ]
  },
  {
   "cell_type": "code",
   "execution_count": null,
   "metadata": {},
   "outputs": [],
   "source": []
  }
 ],
 "metadata": {
  "kernelspec": {
   "display_name": "Python 3",
   "language": "python",
   "name": "python3"
  },
  "language_info": {
   "codemirror_mode": {
    "name": "ipython",
    "version": 3
   },
   "file_extension": ".py",
   "mimetype": "text/x-python",
   "name": "python",
   "nbconvert_exporter": "python",
   "pygments_lexer": "ipython3",
   "version": "3.7.3"
  }
 },
 "nbformat": 4,
 "nbformat_minor": 2
}
